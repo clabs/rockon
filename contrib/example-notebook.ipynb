{
 "cells": [
  {
   "cell_type": "code",
   "execution_count": 4,
   "metadata": {},
   "outputs": [],
   "source": [
    "import os, sys\n",
    "from pprint import pprint\n",
    "import django\n",
    "\n",
    "PROJECTPATH = 'C:/Users/user/develop/rockon/src'\n",
    "sys.path.insert(0, PROJECTPATH)\n",
    "os.environ.setdefault(\"DJANGO_SETTINGS_MODULE\", \"rockon.settings\")\n",
    "os.environ[\"DJANGO_ALLOW_ASYNC_UNSAFE\"] = \"true\"\n",
    "os.chdir(PROJECTPATH)\n",
    "django.setup()\n"
   ]
  },
  {
   "cell_type": "code",
   "execution_count": 6,
   "metadata": {},
   "outputs": [
    {
     "name": "stdout",
     "output_type": "stream",
     "text": [
      "{'default': {'ATOMIC_REQUESTS': False,\n",
      "             'AUTOCOMMIT': True,\n",
      "             'CONN_HEALTH_CHECKS': False,\n",
      "             'CONN_MAX_AGE': 0,\n",
      "             'ENGINE': 'django.db.backends.sqlite3',\n",
      "             'HOST': '',\n",
      "             'NAME': 'C:\\\\Users/user/develop/rockon/src\\\\db.sqlite3',\n",
      "             'OPTIONS': {},\n",
      "             'PASSWORD': '',\n",
      "             'PORT': '',\n",
      "             'TEST': {'CHARSET': None,\n",
      "                      'COLLATION': None,\n",
      "                      'MIGRATE': True,\n",
      "                      'MIRROR': None,\n",
      "                      'NAME': None},\n",
      "             'TIME_ZONE': None,\n",
      "             'USER': ''}}\n"
     ]
    }
   ],
   "source": [
    "from django.conf import settings\n",
    "pprint(settings.DATABASES)\n"
   ]
  },
  {
   "cell_type": "code",
   "execution_count": 7,
   "metadata": {},
   "outputs": [
    {
     "name": "stdout",
     "output_type": "stream",
     "text": [
      "<User: admin>\n"
     ]
    }
   ],
   "source": [
    "from django.contrib.auth.models import User\n",
    "\n",
    "user = User.objects.get(username='admin')\n",
    "\n",
    "pprint(user.email)\n"
   ]
  }
 ],
 "metadata": {
  "kernelspec": {
   "display_name": "rockon-DeO7_0s1",
   "language": "python",
   "name": "python3"
  },
  "language_info": {
   "codemirror_mode": {
    "name": "ipython",
    "version": 3
   },
   "file_extension": ".py",
   "mimetype": "text/x-python",
   "name": "python",
   "nbconvert_exporter": "python",
   "pygments_lexer": "ipython3",
   "version": "3.12.0"
  }
 },
 "nbformat": 4,
 "nbformat_minor": 2
}
